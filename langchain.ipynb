{
 "cells": [
  {
   "cell_type": "code",
   "execution_count": null,
   "id": "f62687ac",
   "metadata": {},
   "outputs": [],
   "source": [
    "# !pip install -U langchain langchain-community langchainhub openai chromadb bs4"
   ]
  },
  {
   "cell_type": "code",
   "execution_count": null,
   "id": "9e173e44",
   "metadata": {},
   "outputs": [],
   "source": [
    "# !pip install -U gpt4all"
   ]
  },
  {
   "cell_type": "code",
   "execution_count": null,
   "id": "a954a000",
   "metadata": {},
   "outputs": [],
   "source": [
    "# pip install tiktoken"
   ]
  },
  {
   "cell_type": "code",
   "execution_count": null,
   "id": "4d14f901",
   "metadata": {},
   "outputs": [],
   "source": [
    "# %pip install gpt4all > /dev/null"
   ]
  },
  {
   "cell_type": "code",
   "execution_count": 6,
   "id": "525e884d",
   "metadata": {},
   "outputs": [],
   "source": [
    "# !pip install huggingface_hub"
   ]
  },
  {
   "cell_type": "code",
   "execution_count": 95,
   "id": "d28b355d",
   "metadata": {},
   "outputs": [],
   "source": [
    "# !pip install faiss-gpu"
   ]
  },
  {
   "cell_type": "code",
   "execution_count": 100,
   "id": "aa402644",
   "metadata": {},
   "outputs": [],
   "source": [
    "from getpass import getpass\n",
    "import os\n",
    "from langchain_community.llms import HuggingFaceHub\n",
    "from langchain.chains import LLMChain\n",
    "from langchain.prompts import PromptTemplate\n",
    "import bs4\n",
    "from langchain_community.document_loaders import WebBaseLoader\n",
    "from langchain.text_splitter import RecursiveCharacterTextSplitter\n",
    "from langchain import hub"
   ]
  },
  {
   "cell_type": "markdown",
   "id": "9d54a806",
   "metadata": {},
   "source": [
    "## Setting up HuggingFace Hub\n",
    "https://python.langchain.com/docs/integrations/llms/huggingface_hub"
   ]
  },
  {
   "cell_type": "markdown",
   "id": "2dc7d13f",
   "metadata": {},
   "source": [
    "Get a token: https://huggingface.co/docs/api-inference/quicktour#get-your-api-token"
   ]
  },
  {
   "cell_type": "code",
   "execution_count": 1,
   "id": "d5967bf7",
   "metadata": {},
   "outputs": [
    {
     "name": "stdout",
     "output_type": "stream",
     "text": [
      "········\n"
     ]
    }
   ],
   "source": [
    "HUGGINGFACEHUB_API_TOKEN = getpass()"
   ]
  },
  {
   "cell_type": "code",
   "execution_count": 2,
   "id": "c4087028",
   "metadata": {},
   "outputs": [],
   "source": [
    "os.environ[\"HUGGINGFACEHUB_API_TOKEN\"] = HUGGINGFACEHUB_API_TOKEN"
   ]
  },
  {
   "cell_type": "markdown",
   "id": "3532ae29",
   "metadata": {},
   "source": [
    "### Testing with a LLM\n",
    "To make sure that the HF API works"
   ]
  },
  {
   "cell_type": "code",
   "execution_count": 4,
   "id": "2aa9b70c",
   "metadata": {},
   "outputs": [],
   "source": [
    "question = \"Who won the FIFA World Cup in the year 1994? \"\n",
    "\n",
    "template = \"\"\"Question: {question}\n",
    "\n",
    "Answer: Let's think step by step.\"\"\"\n",
    "\n",
    "prompt = PromptTemplate(template=template, input_variables=[\"question\"])"
   ]
  },
  {
   "cell_type": "code",
   "execution_count": 5,
   "id": "03a5735a",
   "metadata": {},
   "outputs": [
    {
     "data": {
      "text/plain": [
       "PromptTemplate(input_variables=['question'], template=\"Question: {question}\\n\\nAnswer: Let's think step by step.\")"
      ]
     },
     "execution_count": 5,
     "metadata": {},
     "output_type": "execute_result"
    }
   ],
   "source": [
    "prompt"
   ]
  },
  {
   "cell_type": "code",
   "execution_count": 97,
   "id": "4f1fc342",
   "metadata": {},
   "outputs": [
    {
     "name": "stderr",
     "output_type": "stream",
     "text": [
      "/home/xykong/.local/lib/python3.9/site-packages/huggingface_hub/utils/_deprecation.py:131: FutureWarning: 'InferenceApi' (from 'huggingface_hub.inference_api') is deprecated and will be removed from version '1.0'. `InferenceApi` client is deprecated in favor of the more feature-complete `InferenceClient`. Check out this guide to learn how to convert your script to use it: https://huggingface.co/docs/huggingface_hub/guides/inference#legacy-inferenceapi-client.\n",
      "  warnings.warn(warning_message, FutureWarning)\n"
     ]
    },
    {
     "name": "stdout",
     "output_type": "stream",
     "text": [
      "The 1994 FIFA World Cup was won by France. France is a country located in Europe. The answer: France.\n"
     ]
    }
   ],
   "source": [
    "repo_id = \"google/flan-t5-xxl\"\n",
    "\n",
    "llm = HuggingFaceHub(\n",
    "    repo_id=repo_id, model_kwargs={\"temperature\": 0.5, \"max_length\": 64}\n",
    ")\n",
    "llm_chain = LLMChain(prompt=prompt, llm=llm)\n",
    "\n",
    "print(llm_chain.run(question))"
   ]
  },
  {
   "cell_type": "markdown",
   "id": "f6f08f92",
   "metadata": {},
   "source": [
    "## Setting up for Q&A\n",
    "https://python.langchain.com/docs/use_cases/question_answering/local_retrieval_qa"
   ]
  },
  {
   "cell_type": "markdown",
   "id": "338fb07d",
   "metadata": {},
   "source": [
    "### Load"
   ]
  },
  {
   "cell_type": "markdown",
   "id": "08c94134",
   "metadata": {},
   "source": [
    "Example"
   ]
  },
  {
   "cell_type": "code",
   "execution_count": 8,
   "id": "1c280765",
   "metadata": {},
   "outputs": [],
   "source": [
    "# Only keep post title, headers, and content from the full HTML.\n",
    "bs4_strainer = bs4.SoupStrainer(class_=(\"post-title\", \"post-header\", \"post-content\"))\n",
    "loader = WebBaseLoader(\n",
    "    web_paths=(\"https://lilianweng.github.io/posts/2023-06-23-agent/\",),\n",
    "    bs_kwargs={\"parse_only\": bs4_strainer},\n",
    ")\n",
    "docs = loader.load()"
   ]
  },
  {
   "cell_type": "code",
   "execution_count": 9,
   "id": "b70991a7",
   "metadata": {},
   "outputs": [
    {
     "data": {
      "text/plain": [
       "42824"
      ]
     },
     "execution_count": 9,
     "metadata": {},
     "output_type": "execute_result"
    }
   ],
   "source": [
    "len(docs[0].page_content) # number of str char"
   ]
  },
  {
   "cell_type": "code",
   "execution_count": 12,
   "id": "5c57e065",
   "metadata": {},
   "outputs": [
    {
     "data": {
      "text/plain": [
       "1"
      ]
     },
     "execution_count": 12,
     "metadata": {},
     "output_type": "execute_result"
    }
   ],
   "source": [
    "len(docs)"
   ]
  },
  {
   "cell_type": "markdown",
   "id": "9608d461",
   "metadata": {},
   "source": [
    "#### USSD GIS Data page"
   ]
  },
  {
   "cell_type": "code",
   "execution_count": 13,
   "id": "698ff444",
   "metadata": {},
   "outputs": [],
   "source": [
    "# Only keep post title, headers, and content from the full HTML.\n",
    "bs4_strainer = bs4.SoupStrainer(class_=(\"s-lib-box-content\"))\n",
    "loader = WebBaseLoader(\n",
    "    web_paths=(\"https://ucsd.libguides.com/gis/gisdata\",),\n",
    "    bs_kwargs={\"parse_only\": bs4_strainer},\n",
    ")\n",
    "docs = loader.load()"
   ]
  },
  {
   "cell_type": "code",
   "execution_count": 14,
   "id": "2e381edd",
   "metadata": {},
   "outputs": [
    {
     "data": {
      "text/plain": [
       "5321"
      ]
     },
     "execution_count": 14,
     "metadata": {},
     "output_type": "execute_result"
    }
   ],
   "source": [
    "len(docs[0].page_content) # number of str char"
   ]
  },
  {
   "cell_type": "code",
   "execution_count": 16,
   "id": "d41c290f",
   "metadata": {},
   "outputs": [
    {
     "name": "stdout",
     "output_type": "stream",
     "text": [
      "\n",
      "Browse the GIS data holdings on X drive\n",
      "\n",
      "UC San Diego affiliate can browse the Library's geospatial data holdings that are hosted on the X drive in our Data & GIS Lab. You must be connected to UCSD VPN in order to browse. This is for BROWSING ONLY. You CANNOT DOWNLOAD any files. You must visit the Lab to access files until we are able to publish the data into an online portal (currently in development)\n",
      "The data is organized geographically, roughly by continent, with topical data arrangement inside each folder.\n",
      "Remember, if you are looking for data on a smaller area of geography, be sure to check the folder with the larger geography first.  An example would be if you are looking for data for only one of the states in the United States, you would want to look in the United States Data folder as well as the North America data folder.\n",
      "VPN (Cisco AnyConnect Client)Download VPN software on your computer to get off-campus access for everything you'd get using the proxy. If you're having problems with proxy, VPN is a good alternative. When connecting, select the 'althruucsd' setting.Using the EasyConnect option (WebVPN) is not advised.more...less...Install client software on your computer (AnyConnect Client - select Conventional Download), then run and login with your username/password. MAKE SURE TO USE THE 'ALLTHRUUCSD' SETTING.X:\\ Drive Geospatial Data\n",
      "\n",
      "\n",
      " \n",
      "\n",
      "\n",
      "\n",
      "\n",
      "Types of Geospatial Data\n",
      "\n",
      "\n",
      "\n",
      "\n",
      "\n",
      "Africa_Data\n",
      "GIS_Workshop_Data\n",
      "\n",
      "\n",
      "Asia_Data\n",
      "Global_Data\n",
      "\n",
      "\n",
      "A_Datacruncher_Data\n",
      "Mexico_Data\n",
      "\n",
      "\n",
      "Business_Analyst_Data 2008, 2010, 2016\n",
      "North_America_Data\n",
      "\n",
      "\n",
      "California\n",
      "Oceania_Data\n",
      "\n",
      "\n",
      "Canada_Data\n",
      "San_Diego_Data\n",
      "\n",
      "\n",
      "ESRI_Data_for_Workbooks\n",
      "South_America_Data\n",
      "\n",
      "\n",
      "Europe_Data\n",
      "UCSD_Campus_Data\n",
      "\n",
      "\n",
      "GIS_Tools\n",
      "United_States_Data\n",
      "\n",
      "\n",
      "\n",
      "\n",
      "\n",
      "\n",
      "Below are some of the top resources for finding good GIS data online.\n",
      "California State GeoportalThe California State Geoportal is a centralized geographic open data portal, which includes authoritative data and applications from a multitude of California state entities. These State entities cover many topics including Water, Health, Energy, Environment, Transportation, Land Use, Boundaries, Geology, Wildlife, Education, Economy and Fire.CIESIN & SEDAC & WDC (from Columbia University)A very rich website with lots of GIS data from Columbia University portals such as CIESIN (Center for International Earth Science Information Network), SEDAC (Socioeconomic Data and Applications Center), and the World Data Center for Human Interactions.Data is PluralData is Plural is a weekly newsletter of useful/curious datasets, published by Jeremy Singer-Vine. You can browse the full data listings in a Google Spreadsheet of random datasets. A great find!DIVA GIS - DataA comprehensive and great starting point for files on administrative boundaries, water, roads, railroads, elevation, landcover, population, climate and a gazetteer for almost every country in the world.EarthWorks - Stanford UniversityDiscover and download GIS data and maps from various universities. Set the Access to Public to ensure you can download the data or maps.GeoNetwork - The portal to spatial data and informationA product of the UN FAO, this site is a great place to look for data on political boundaries, agriculture, climate, fisheries, forestry, water, land cover/use, population data, soil info and topo info.Marine/Coastal GIS ResourceFrom OSU's Davey Jones' Locker, this is a great place to start any marine/coastal GIS project. Here you will find the full spectrum of links for agencies, bibliographies, conferences, data, labs, software tools and more.NASA EarthdataEarthdata from NASA holds more than 35,000 Earth science data set and service descriptions, which cover subject areas within the Earth and environmental sciences. NASA's former Global Change Master Directory (GCMD) was rolled up into this. You can switch between various Distributed Active Archive Center (DAACs). Data and information are filtered by nine key topics: Atmosphere, Biosphere, Cryosphere, Human Dimensions, Land Surface, Ocean, Solid Earth, Sun-Earth Interactions, and Terrestrial Hydrosphere. Explore the datasets within your topic of interest.SanGISOne of the best sites to get GIS data for San Diego. Almost 100 free GIS data layers available for public download. Majority of these, including historical dates, are available through the Geisel Library Data & GIS Lab with improved metadata.SimplyAnalytics SimplyAnalytics is a web-based mapping application that lets users quickly create professional-quality thematic maps and reports using demographic, business, and marketing data for the United States. Access limited to 5 simultaneous users. Try again later if refused. Includes EASI/MediaMark Research Incorporated (MRI) and Simmons LOCAL data packages. (formerly known as SimplyMap).UNEP - World Environment Situation Room (WESR)The World Environment Situation Room (WESR) is the new UNEP data platform that provides federated environmental data access at the global, regional, national and local levels for sustainable development and national planning needs. The WESR data system brings together over 45 data platforms and 70 data sources.Contact GIS LibrarianIf you find a good source that isn't on one of our lists, please contact us and we'll be sure to evaluate it and add it on so others can benefit from your work!\n",
      "\n"
     ]
    }
   ],
   "source": [
    "print(docs[0].page_content)"
   ]
  },
  {
   "cell_type": "markdown",
   "id": "809f1279",
   "metadata": {},
   "source": [
    "Now we have the GIS data page saved as `docs`"
   ]
  },
  {
   "cell_type": "markdown",
   "id": "b135233e",
   "metadata": {},
   "source": [
    "### Split"
   ]
  },
  {
   "cell_type": "markdown",
   "id": "103ccec2",
   "metadata": {},
   "source": [
    "We’ll split our documents into chunks of 1000 characters with 200 characters of overlap between chunks. The overlap helps mitigate the possibility of separating a statement from important context related to it"
   ]
  },
  {
   "cell_type": "code",
   "execution_count": 18,
   "id": "a8a7dbd3",
   "metadata": {},
   "outputs": [],
   "source": [
    "text_splitter = RecursiveCharacterTextSplitter(\n",
    "    chunk_size=1000, chunk_overlap=200, add_start_index=True\n",
    ")\n",
    "all_splits = text_splitter.split_documents(docs)"
   ]
  },
  {
   "cell_type": "code",
   "execution_count": 20,
   "id": "324f93b5",
   "metadata": {},
   "outputs": [
    {
     "data": {
      "text/plain": [
       "10"
      ]
     },
     "execution_count": 20,
     "metadata": {},
     "output_type": "execute_result"
    }
   ],
   "source": [
    "len(all_splits) # total number of splitted doc"
   ]
  },
  {
   "cell_type": "code",
   "execution_count": 21,
   "id": "bba91c71",
   "metadata": {},
   "outputs": [
    {
     "data": {
      "text/plain": [
       "39"
      ]
     },
     "execution_count": 21,
     "metadata": {},
     "output_type": "execute_result"
    }
   ],
   "source": [
    "len(all_splits[0].page_content)"
   ]
  },
  {
   "cell_type": "code",
   "execution_count": 44,
   "id": "76db5e95",
   "metadata": {},
   "outputs": [
    {
     "data": {
      "text/plain": [
       "Document(page_content=\"UC San Diego affiliate can browse the Library's geospatial data holdings that are hosted on the X drive in our Data & GIS Lab. You must be connected to UCSD VPN in order to browse. This is for BROWSING ONLY. You CANNOT DOWNLOAD any files. You must visit the Lab to access files until we are able to publish the data into an online portal (currently in development)\\nThe data is organized geographically, roughly by continent, with topical data arrangement inside each folder.\\nRemember, if you are looking for data on a smaller area of geography, be sure to check the folder with the larger geography first.\\xa0 An example would be if you are looking for data for only one of the states in the United States, you would want to look in the United States Data folder as well as the North America data folder.\", metadata={'source': 'https://ucsd.libguides.com/gis/gisdata', 'start_index': 42})"
      ]
     },
     "execution_count": 44,
     "metadata": {},
     "output_type": "execute_result"
    }
   ],
   "source": [
    "all_splits[1]"
   ]
  },
  {
   "cell_type": "markdown",
   "id": "27d6ea65",
   "metadata": {},
   "source": [
    "### Store\n",
    "https://python.langchain.com/docs/integrations/text_embedding/huggingfacehub"
   ]
  },
  {
   "cell_type": "code",
   "execution_count": 82,
   "id": "9fa6df68",
   "metadata": {},
   "outputs": [],
   "source": [
    "from langchain_community.embeddings import HuggingFaceInferenceAPIEmbeddings\n",
    "from langchain_community.vectorstores import Chroma, FAISS\n",
    "\n",
    "embeddings = HuggingFaceInferenceAPIEmbeddings(\n",
    "    api_key=HUGGINGFACEHUB_API_TOKEN, model_name=\"sentence-transformers/all-MiniLM-l6-v2\"\n",
    ")\n",
    "# vectorstore = Chroma.from_documents(documents=all_splits, embedding=embeddings)\n",
    "vectorstore = FAISS.from_documents(documents=all_splits, embedding=embeddings)\n"
   ]
  },
  {
   "cell_type": "code",
   "execution_count": 83,
   "id": "9da9d6f2",
   "metadata": {},
   "outputs": [
    {
     "data": {
      "text/plain": [
       "<langchain_community.vectorstores.faiss.FAISS at 0x7fa6f1b04880>"
      ]
     },
     "execution_count": 83,
     "metadata": {},
     "output_type": "execute_result"
    }
   ],
   "source": [
    "vectorstore"
   ]
  },
  {
   "cell_type": "markdown",
   "id": "74fb383b",
   "metadata": {},
   "source": [
    "### Retrieve relevant documents"
   ]
  },
  {
   "cell_type": "markdown",
   "id": "70ab17d6",
   "metadata": {},
   "source": [
    "Options:\n",
    "1. Chroma (example from LangChain)\n",
    "2. FAISS (Facebook AI Similarity Search) - using this because it has score function\n"
   ]
  },
  {
   "cell_type": "code",
   "execution_count": 84,
   "id": "fbaccaa2",
   "metadata": {},
   "outputs": [],
   "source": [
    "# Retrieve relevant documents given a query, i.e. question\n",
    "retriever = vectorstore.as_retriever(search_type=\"similarity\", search_kwargs={\"k\": 2})"
   ]
  },
  {
   "cell_type": "code",
   "execution_count": 90,
   "id": "3b593fab",
   "metadata": {},
   "outputs": [],
   "source": [
    "query = \"What is X drive?\""
   ]
  },
  {
   "cell_type": "code",
   "execution_count": 91,
   "id": "c016ccec",
   "metadata": {},
   "outputs": [],
   "source": [
    "retrieved_docs = retriever.get_relevant_documents(query)"
   ]
  },
  {
   "cell_type": "code",
   "execution_count": 92,
   "id": "d8122561",
   "metadata": {},
   "outputs": [
    {
     "data": {
      "text/plain": [
       "2"
      ]
     },
     "execution_count": 92,
     "metadata": {},
     "output_type": "execute_result"
    }
   ],
   "source": [
    "len(retrieved_docs) # should have the same number as `k` specified above"
   ]
  },
  {
   "cell_type": "code",
   "execution_count": 93,
   "id": "2ff81741",
   "metadata": {},
   "outputs": [
    {
     "name": "stdout",
     "output_type": "stream",
     "text": [
      "UC San Diego affiliate can browse the Library's geospatial data holdings that are hosted on the X drive in our Data & GIS Lab. You must be connected to UCSD VPN in order to browse. This is for BROWSING ONLY. You CANNOT DOWNLOAD any files. You must visit the Lab to access files until we are able to publish the data into an online portal (currently in development)\n",
      "The data is organized geographically, roughly by continent, with topical data arrangement inside each folder.\n",
      "Remember, if you are looking for data on a smaller area of geography, be sure to check the folder with the larger geography first.  An example would be if you are looking for data for only one of the states in the United States, you would want to look in the United States Data folder as well as the North America data folder.\n"
     ]
    }
   ],
   "source": [
    "print(retrieved_docs[1].page_content)"
   ]
  },
  {
   "cell_type": "markdown",
   "id": "106a65fa",
   "metadata": {},
   "source": [
    "#### To view scores\n",
    "\n",
    "Note that **the returned distance score is L2 distance. Therefore, a lower score is better.**"
   ]
  },
  {
   "cell_type": "code",
   "execution_count": 94,
   "id": "01270711",
   "metadata": {},
   "outputs": [
    {
     "data": {
      "text/plain": [
       "[(Document(page_content='Browse the GIS data holdings on X drive', metadata={'source': 'https://ucsd.libguides.com/gis/gisdata', 'start_index': 1}),\n",
       "  0.84911835),\n",
       " (Document(page_content=\"UC San Diego affiliate can browse the Library's geospatial data holdings that are hosted on the X drive in our Data & GIS Lab. You must be connected to UCSD VPN in order to browse. This is for BROWSING ONLY. You CANNOT DOWNLOAD any files. You must visit the Lab to access files until we are able to publish the data into an online portal (currently in development)\\nThe data is organized geographically, roughly by continent, with topical data arrangement inside each folder.\\nRemember, if you are looking for data on a smaller area of geography, be sure to check the folder with the larger geography first.\\xa0 An example would be if you are looking for data for only one of the states in the United States, you would want to look in the United States Data folder as well as the North America data folder.\", metadata={'source': 'https://ucsd.libguides.com/gis/gisdata', 'start_index': 42}),\n",
       "  1.4540023),\n",
       " (Document(page_content='data for San Diego. Almost 100 free GIS data layers available for public download. Majority of these, including historical dates, are available through the Geisel Library Data & GIS Lab with improved metadata.SimplyAnalytics SimplyAnalytics is a web-based mapping application that lets users quickly create professional-quality thematic maps and reports using demographic, business, and marketing data for the United States. Access limited to 5 simultaneous users. Try again later if refused. Includes EASI/MediaMark Research Incorporated (MRI) and Simmons LOCAL data packages. (formerly known as SimplyMap).UNEP - World Environment Situation Room (WESR)The World Environment Situation Room (WESR) is the new UNEP data platform that provides federated environmental data access at the global, regional, national and local levels for sustainable development and national planning needs. The WESR data system brings together over 45 data platforms and 70 data sources.Contact GIS LibrarianIf you find', metadata={'source': 'https://ucsd.libguides.com/gis/gisdata', 'start_index': 4173}),\n",
       "  1.6656462),\n",
       " (Document(page_content='California State GeoportalThe California State Geoportal is a centralized geographic open data portal, which includes authoritative data and applications from a multitude of California state entities. These State entities cover many topics including Water, Health, Energy, Environment, Transportation, Land Use, Boundaries, Geology, Wildlife, Education, Economy and Fire.CIESIN & SEDAC & WDC (from Columbia University)A very rich website with lots of GIS data from Columbia University portals such as CIESIN (Center for International Earth Science Information Network), SEDAC (Socioeconomic Data and Applications Center), and the World Data Center for Human Interactions.Data is PluralData is Plural is a weekly newsletter of useful/curious datasets, published by Jeremy Singer-Vine. You can browse the full data listings in a Google Spreadsheet of random datasets. A great find!DIVA GIS - DataA comprehensive and great starting point for files on administrative boundaries, water, roads, railroads,', metadata={'source': 'https://ucsd.libguides.com/gis/gisdata', 'start_index': 1794}),\n",
       "  1.6741705)]"
      ]
     },
     "execution_count": 94,
     "metadata": {},
     "output_type": "execute_result"
    }
   ],
   "source": [
    "vectorstore.similarity_search_with_score(query)"
   ]
  },
  {
   "cell_type": "markdown",
   "id": "e6982659",
   "metadata": {},
   "source": [
    "### Generate"
   ]
  },
  {
   "cell_type": "code",
   "execution_count": 112,
   "id": "5e93972c",
   "metadata": {},
   "outputs": [
    {
     "name": "stderr",
     "output_type": "stream",
     "text": [
      "/home/xykong/.local/lib/python3.9/site-packages/huggingface_hub/utils/_deprecation.py:131: FutureWarning: 'InferenceApi' (from 'huggingface_hub.inference_api') is deprecated and will be removed from version '1.0'. `InferenceApi` client is deprecated in favor of the more feature-complete `InferenceClient`. Check out this guide to learn how to convert your script to use it: https://huggingface.co/docs/huggingface_hub/guides/inference#legacy-inferenceapi-client.\n",
      "  warnings.warn(warning_message, FutureWarning)\n"
     ]
    }
   ],
   "source": [
    "repo_id = \"google/flan-t5-xxl\"\n",
    "\n",
    "llm = HuggingFaceHub(\n",
    "    repo_id=repo_id, model_kwargs={\"temperature\": 0.1, \"max_length\": 100}\n",
    ")"
   ]
  },
  {
   "cell_type": "code",
   "execution_count": 113,
   "id": "e8e500f0",
   "metadata": {},
   "outputs": [],
   "source": [
    "prompt = hub.pull(\"rlm/rag-prompt\")"
   ]
  },
  {
   "cell_type": "code",
   "execution_count": 114,
   "id": "32ba944a",
   "metadata": {},
   "outputs": [
    {
     "data": {
      "text/plain": [
       "[HumanMessage(content=\"You are an assistant for question-answering tasks. Use the following pieces of retrieved context to answer the question. If you don't know the answer, just say that you don't know. Use three sentences maximum and keep the answer concise.\\nQuestion: filler question \\nContext: filler context \\nAnswer:\")]"
      ]
     },
     "execution_count": 114,
     "metadata": {},
     "output_type": "execute_result"
    }
   ],
   "source": [
    "example_messages = prompt.invoke(\n",
    "    {\"context\": \"filler context\", \"question\": \"filler question\"}\n",
    ").to_messages()\n",
    "example_messages"
   ]
  },
  {
   "cell_type": "code",
   "execution_count": 115,
   "id": "9139d2d9",
   "metadata": {},
   "outputs": [
    {
     "name": "stdout",
     "output_type": "stream",
     "text": [
      "You are an assistant for question-answering tasks. Use the following pieces of retrieved context to answer the question. If you don't know the answer, just say that you don't know. Use three sentences maximum and keep the answer concise.\n",
      "Question: filler question \n",
      "Context: filler context \n",
      "Answer:\n"
     ]
    }
   ],
   "source": [
    "print(example_messages[0].content)"
   ]
  },
  {
   "cell_type": "code",
   "execution_count": 116,
   "id": "316edc68",
   "metadata": {},
   "outputs": [],
   "source": [
    "from langchain_core.output_parsers import StrOutputParser\n",
    "from langchain_core.runnables import RunnablePassthrough\n",
    "\n",
    "\n",
    "def format_docs(docs):\n",
    "    return \"\\n\\n\".join(doc.page_content for doc in docs)\n",
    "\n",
    "\n",
    "rag_chain = (\n",
    "    {\"context\": retriever | format_docs, \"question\": RunnablePassthrough()}\n",
    "    | prompt\n",
    "    | llm\n",
    "    | StrOutputParser()\n",
    ")"
   ]
  },
  {
   "cell_type": "code",
   "execution_count": 117,
   "id": "0a25328b",
   "metadata": {},
   "outputs": [
    {
     "name": "stdout",
     "output_type": "stream",
     "text": [
      "UC San Diego affiliate can browse the Library's geospatial data holdings that are hosted on the X drive in our Data & GIS Lab."
     ]
    }
   ],
   "source": [
    "for chunk in rag_chain.stream(query):\n",
    "    print(chunk, end=\"\", flush=True)"
   ]
  },
  {
   "cell_type": "code",
   "execution_count": null,
   "id": "16c6dd27",
   "metadata": {},
   "outputs": [],
   "source": []
  }
 ],
 "metadata": {
  "kernelspec": {
   "display_name": "Python 3 (ipykernel)",
   "language": "python",
   "name": "python3"
  },
  "language_info": {
   "codemirror_mode": {
    "name": "ipython",
    "version": 3
   },
   "file_extension": ".py",
   "mimetype": "text/x-python",
   "name": "python",
   "nbconvert_exporter": "python",
   "pygments_lexer": "ipython3",
   "version": "3.9.5"
  }
 },
 "nbformat": 4,
 "nbformat_minor": 5
}
